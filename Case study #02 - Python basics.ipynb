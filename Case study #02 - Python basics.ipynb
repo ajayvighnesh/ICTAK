{
 "cells": [
  {
   "cell_type": "markdown",
   "id": "e50457fa-386c-4eb1-8e26-a971d594cf2d",
   "metadata": {},
   "source": [
    "# PYTHON CASE STUDY"
   ]
  },
  {
   "cell_type": "markdown",
   "id": "816f743f-cc29-4acd-ae28-00a450932046",
   "metadata": {},
   "source": [
    "## GROCERY STORE BILL CALCULATOR"
   ]
  },
  {
   "cell_type": "code",
   "execution_count": 3,
   "id": "7963f981-498b-4200-a8a2-66a8de98a2ca",
   "metadata": {},
   "outputs": [
    {
     "name": "stdout",
     "output_type": "stream",
     "text": [
      "GrowCery: Bill Generator\n",
      "------------------------\n"
     ]
    },
    {
     "name": "stdin",
     "output_type": "stream",
     "text": [
      "\n",
      "Do you want to see the list of items and prices? (yes/no):  yes\n"
     ]
    },
    {
     "name": "stdout",
     "output_type": "stream",
     "text": [
      "\n",
      "Available items and their prices:\n",
      "----------------------------------\n",
      "Apple        ₹10\n",
      "Milk         ₹25\n",
      "Bread        ₹50\n",
      "Eggs         ₹10\n",
      "Cheese       ₹40\n",
      "Brocolli     ₹15\n",
      "Juice        ₹40\n",
      "----------------------------------\n"
     ]
    },
    {
     "name": "stdin",
     "output_type": "stream",
     "text": [
      "\n",
      "Enter item name (or 'done' to finish):  brocolli\n",
      "Enter quantity for brocolli:  5\n"
     ]
    },
    {
     "name": "stdout",
     "output_type": "stream",
     "text": [
      "Added 5 x Brocolli to the cart.\n"
     ]
    },
    {
     "name": "stdin",
     "output_type": "stream",
     "text": [
      "\n",
      "Enter item name (or 'done' to finish):  cheese\n",
      "Enter quantity for cheese:  2\n"
     ]
    },
    {
     "name": "stdout",
     "output_type": "stream",
     "text": [
      "Added 2 x Cheese to the cart.\n"
     ]
    },
    {
     "name": "stdin",
     "output_type": "stream",
     "text": [
      "\n",
      "Enter item name (or 'done' to finish):  bread\n",
      "Enter quantity for bread:  4\n"
     ]
    },
    {
     "name": "stdout",
     "output_type": "stream",
     "text": [
      "Added 4 x Bread to the cart.\n"
     ]
    },
    {
     "name": "stdin",
     "output_type": "stream",
     "text": [
      "\n",
      "Enter item name (or 'done' to finish):  eggs\n",
      "Enter quantity for eggs:  5\n"
     ]
    },
    {
     "name": "stdout",
     "output_type": "stream",
     "text": [
      "Added 5 x Eggs to the cart.\n"
     ]
    },
    {
     "name": "stdin",
     "output_type": "stream",
     "text": [
      "\n",
      "Enter item name (or 'done' to finish):  juice\n",
      "Enter quantity for juice:  1\n"
     ]
    },
    {
     "name": "stdout",
     "output_type": "stream",
     "text": [
      "Added 1 x Juice to the cart.\n"
     ]
    },
    {
     "name": "stdin",
     "output_type": "stream",
     "text": [
      "\n",
      "Enter item name (or 'done' to finish):  done\n"
     ]
    },
    {
     "name": "stdout",
     "output_type": "stream",
     "text": [
      "\n",
      "========= BILL =========\n",
      "Item       Qty    Price\n",
      "------------------------\n",
      "Brocolli    5      ₹75\n",
      "Cheese      2      ₹80\n",
      "Bread       4      ₹200\n",
      "Eggs        5      ₹50\n",
      "Juice       1      ₹40\n",
      "------------------------\n",
      "Total       17      ₹445\n",
      "========================\n"
     ]
    },
    {
     "name": "stdin",
     "output_type": "stream",
     "text": [
      "\n",
      "Do you want to generate another bill? (yes/no):  yes\n",
      "\n",
      "Enter item name (or 'done' to finish):  eggs\n",
      "Enter quantity for eggs:  3\n"
     ]
    },
    {
     "name": "stdout",
     "output_type": "stream",
     "text": [
      "Added 3 x Eggs to the cart.\n"
     ]
    },
    {
     "name": "stdin",
     "output_type": "stream",
     "text": [
      "\n",
      "Enter item name (or 'done' to finish):  apple\n",
      "Enter quantity for apple:  2\n"
     ]
    },
    {
     "name": "stdout",
     "output_type": "stream",
     "text": [
      "Added 2 x Apple to the cart.\n"
     ]
    },
    {
     "name": "stdin",
     "output_type": "stream",
     "text": [
      "\n",
      "Enter item name (or 'done' to finish):  bread\n",
      "Enter quantity for bread:  4\n"
     ]
    },
    {
     "name": "stdout",
     "output_type": "stream",
     "text": [
      "Added 4 x Bread to the cart.\n"
     ]
    },
    {
     "name": "stdin",
     "output_type": "stream",
     "text": [
      "\n",
      "Enter item name (or 'done' to finish):  brocolli\n",
      "Enter quantity for brocolli:  5\n"
     ]
    },
    {
     "name": "stdout",
     "output_type": "stream",
     "text": [
      "Added 5 x Brocolli to the cart.\n"
     ]
    },
    {
     "name": "stdin",
     "output_type": "stream",
     "text": [
      "\n",
      "Enter item name (or 'done' to finish):  eggs\n",
      "Enter quantity for eggs:  7\n"
     ]
    },
    {
     "name": "stdout",
     "output_type": "stream",
     "text": [
      "Added 7 x Eggs to the cart.\n"
     ]
    },
    {
     "name": "stdin",
     "output_type": "stream",
     "text": [
      "\n",
      "Enter item name (or 'done' to finish):  apple\n",
      "Enter quantity for apple:  8\n"
     ]
    },
    {
     "name": "stdout",
     "output_type": "stream",
     "text": [
      "Added 8 x Apple to the cart.\n"
     ]
    },
    {
     "name": "stdin",
     "output_type": "stream",
     "text": [
      "\n",
      "Enter item name (or 'done' to finish):  cheese\n",
      "Enter quantity for cheese:  2\n"
     ]
    },
    {
     "name": "stdout",
     "output_type": "stream",
     "text": [
      "Added 2 x Cheese to the cart.\n"
     ]
    },
    {
     "name": "stdin",
     "output_type": "stream",
     "text": [
      "\n",
      "Enter item name (or 'done' to finish):  done\n"
     ]
    },
    {
     "name": "stdout",
     "output_type": "stream",
     "text": [
      "\n",
      "========= BILL =========\n",
      "Item       Qty    Price\n",
      "------------------------\n",
      "Eggs        10     ₹100\n",
      "Apple       10     ₹100\n",
      "Bread       4      ₹200\n",
      "Brocolli    5      ₹75\n",
      "Cheese      2      ₹80\n",
      "------------------------\n",
      "Total       31      ₹555\n",
      "========================\n"
     ]
    },
    {
     "name": "stdin",
     "output_type": "stream",
     "text": [
      "\n",
      "Do you want to generate another bill? (yes/no):  yes\n",
      "\n",
      "Enter item name (or 'done' to finish):  cheese\n",
      "Enter quantity for cheese:  2\n"
     ]
    },
    {
     "name": "stdout",
     "output_type": "stream",
     "text": [
      "Added 2 x Cheese to the cart.\n"
     ]
    },
    {
     "name": "stdin",
     "output_type": "stream",
     "text": [
      "\n",
      "Enter item name (or 'done' to finish):  bread\n",
      "Enter quantity for bread:  4\n"
     ]
    },
    {
     "name": "stdout",
     "output_type": "stream",
     "text": [
      "Added 4 x Bread to the cart.\n"
     ]
    },
    {
     "name": "stdin",
     "output_type": "stream",
     "text": [
      "\n",
      "Enter item name (or 'done' to finish):  yogurt\n"
     ]
    },
    {
     "name": "stdout",
     "output_type": "stream",
     "text": [
      "Sorry, this item is not available.\n"
     ]
    },
    {
     "name": "stdin",
     "output_type": "stream",
     "text": [
      "\n",
      "Enter item name (or 'done' to finish):  eggs\n",
      "Enter quantity for eggs:  5\n"
     ]
    },
    {
     "name": "stdout",
     "output_type": "stream",
     "text": [
      "Added 5 x Eggs to the cart.\n"
     ]
    },
    {
     "name": "stdin",
     "output_type": "stream",
     "text": [
      "\n",
      "Enter item name (or 'done' to finish):  orange\n"
     ]
    },
    {
     "name": "stdout",
     "output_type": "stream",
     "text": [
      "Sorry, this item is not available.\n"
     ]
    },
    {
     "name": "stdin",
     "output_type": "stream",
     "text": [
      "\n",
      "Enter item name (or 'done' to finish):  apple\n",
      "Enter quantity for apple:  5\n"
     ]
    },
    {
     "name": "stdout",
     "output_type": "stream",
     "text": [
      "Added 5 x Apple to the cart.\n"
     ]
    },
    {
     "name": "stdin",
     "output_type": "stream",
     "text": [
      "\n",
      "Enter item name (or 'done' to finish):  done\n"
     ]
    },
    {
     "name": "stdout",
     "output_type": "stream",
     "text": [
      "\n",
      "========= BILL =========\n",
      "Item       Qty    Price\n",
      "------------------------\n",
      "Cheese      2      ₹80\n",
      "Bread       4      ₹200\n",
      "Eggs        5      ₹50\n",
      "Apple       5      ₹50\n",
      "------------------------\n",
      "Total       16      ₹380\n",
      "========================\n"
     ]
    },
    {
     "name": "stdin",
     "output_type": "stream",
     "text": [
      "\n",
      "Do you want to generate another bill? (yes/no):  yes\n",
      "\n",
      "Enter item name (or 'done' to finish):  done\n"
     ]
    },
    {
     "name": "stdout",
     "output_type": "stream",
     "text": [
      "\n",
      "Your cart is empty. Please add items before finishing.\n"
     ]
    },
    {
     "name": "stdin",
     "output_type": "stream",
     "text": [
      "Do you still want to finish? (yes/no):  yes\n"
     ]
    },
    {
     "name": "stdout",
     "output_type": "stream",
     "text": [
      "\n",
      "No items were added. Exiting bill generation.\n"
     ]
    },
    {
     "name": "stdin",
     "output_type": "stream",
     "text": [
      "\n",
      "Do you want to generate another bill? (yes/no):  no\n"
     ]
    },
    {
     "name": "stdout",
     "output_type": "stream",
     "text": [
      "\n",
      "Thank you for visiting us!\n"
     ]
    }
   ],
   "source": [
    "def display_items(prices):\n",
    "    \"\"\"Display available items and their prices.\"\"\"\n",
    "    print(\"\\nAvailable items and their prices:\")\n",
    "    print(\"----------------------------------\")\n",
    "    for item, price in prices.items():\n",
    "        print(f\"{item.capitalize():<12} ₹{price}\")\n",
    "    print(\"----------------------------------\")\n",
    "\n",
    "\n",
    "def calculate_bill(prices):\n",
    "    \"\"\"Calculate the total bill for a customer.\"\"\"\n",
    "    # Initialize total bill, total quantity and cart for the current customer\n",
    "    total_bill = 0\n",
    "    total_quantity = 0  # Initialize total quantity counter\n",
    "    cart = {}\n",
    "\n",
    "    while True:\n",
    "        # Get item input\n",
    "        item = input(\"\\nEnter item name (or 'done' to finish): \").lower()\n",
    "\n",
    "        if item == 'done':\n",
    "            if not cart:\n",
    "                # Notify the user if the cart is empty\n",
    "                print(\"\\nYour cart is empty. Please add items before finishing.\")\n",
    "                # Ask if they want to exit anyway\n",
    "                choice = input(\"Do you still want to finish? (yes/no): \").strip().lower()\n",
    "                if choice in ['yes', 'y']:\n",
    "                    print(\"\\nNo items were added. Exiting bill generation.\")\n",
    "                    return\n",
    "                else:\n",
    "                    continue\n",
    "            break\n",
    "\n",
    "        if item not in prices:\n",
    "            print(\"Sorry, this item is not available.\")\n",
    "            continue\n",
    "\n",
    "        # Get quantity input\n",
    "        while True:\n",
    "            quantity_input = input(f\"Enter quantity for {item}: \")\n",
    "            # Check if the input is a valid positive integer\n",
    "            if not quantity_input.isdigit():\n",
    "                print(\"Invalid input. Please enter a valid positive number for quantity.\")\n",
    "                continue\n",
    "            quantity = int(quantity_input)\n",
    "\n",
    "            if quantity <= 0:\n",
    "                print(\"Invalid input. Please enter a valid positive number for quantity.\")\n",
    "                continue\n",
    "\n",
    "            # If valid, break out of the quantity input loop\n",
    "            break\n",
    "\n",
    "        # Update cart: Add quantity to existing item or create new entry\n",
    "        if item in cart:\n",
    "            cart[item] += quantity  # Add the new quantity to the existing quantity\n",
    "        else:\n",
    "            cart[item] = quantity\n",
    "\n",
    "        print(f\"Added {quantity} x {item.capitalize()} to the cart.\")\n",
    "\n",
    "    # Calculate total bill amount\n",
    "    for item, quantity in cart.items():\n",
    "        total_bill += prices[item] * quantity\n",
    "        total_quantity += quantity \n",
    "\n",
    "    # Display the total bill amount\n",
    "    print(\"\\n========= BILL =========\")\n",
    "    print(\"Item       Qty    Price\")\n",
    "    print(\"------------------------\")\n",
    "\n",
    "    for item, quantity in cart.items():\n",
    "        item_total = prices[item] * quantity\n",
    "        print(f\"{item.capitalize():<12}{str(quantity).ljust(7)}₹{item_total}\")\n",
    "\n",
    "    print(\"------------------------\")\n",
    "    print(f\"Total       {total_quantity}      ₹{total_bill}\")\n",
    "    print(\"========================\")\n",
    "\n",
    "def main():\n",
    "    \"\"\"Main function to handle multiple bill generations.\"\"\"\n",
    "    # Store prices in a dictionary\n",
    "    prices = {\n",
    "        'apple': 10,\n",
    "        'milk': 25,\n",
    "        'bread': 50,\n",
    "        'eggs': 10,\n",
    "        'cheese': 40,\n",
    "        'brocolli': 15,\n",
    "        'juice': 40\n",
    "    }\n",
    "\n",
    "    print(\"GrowCery: Bill Generator\")\n",
    "    print(\"------------------------\")\n",
    "\n",
    "    # Ask if the staff wants to see the list of items and prices\n",
    "    choice = input(\"\\nDo you want to see the list of items and prices? (yes/no): \").strip().lower()\n",
    "    if choice in ['yes', 'y']:\n",
    "        display_items(prices)\n",
    "\n",
    "    while True:\n",
    "        calculate_bill(prices)\n",
    "        # Ask if the user wants to process another bill\n",
    "        choice = input(\"\\nDo you want to generate another bill? (yes/no): \").strip().lower()\n",
    "        if choice not in ['yes', 'y']:\n",
    "            print(\"\\nThank you for visiting us!\")\n",
    "            break\n",
    "\n",
    "\n",
    "# Call the main function\n",
    "main()"
   ]
  },
  {
   "cell_type": "markdown",
   "id": "62de9810-a7f9-4aeb-967c-e6ae7052e506",
   "metadata": {},
   "source": [
    "## STUDENT GRADE CALCULATOR"
   ]
  },
  {
   "cell_type": "code",
   "execution_count": 4,
   "id": "3741e578-59a8-4deb-b66f-3699c4acf014",
   "metadata": {},
   "outputs": [
    {
     "name": "stdout",
     "output_type": "stream",
     "text": [
      "GradView: Grade Calculator\n",
      "--------------------------\n"
     ]
    },
    {
     "name": "stdin",
     "output_type": "stream",
     "text": [
      "\n",
      "Enter name of the student:  AJAY VIGNESH\n"
     ]
    },
    {
     "name": "stdout",
     "output_type": "stream",
     "text": [
      "Enter marks for each subject (0-100)\n",
      "--------------------------------------------------\n"
     ]
    },
    {
     "name": "stdin",
     "output_type": "stream",
     "text": [
      "Enter marks for English:  97\n",
      "Enter marks for Mathematics:  95.5\n",
      "Enter marks for Physics:  96\n",
      "Enter marks for Chemistry:  92.5\n",
      "Enter marks for Computer Science:  100\n"
     ]
    },
    {
     "name": "stdout",
     "output_type": "stream",
     "text": [
      "\n",
      "STUDENT GRADE REPORT\n",
      "==================================================\n",
      "Student Name      : AJAY VIGNESH\n",
      "--------------------------------------------------\n",
      "Subject-wise Marks\n",
      "--------------------------------------------------\n",
      "English           :  97.0\n",
      "Mathematics       :  95.5\n",
      "Physics           :  96.0\n",
      "Chemistry         :  92.5\n",
      "Computer Science  : 100.0\n",
      "--------------------------------------------------\n",
      "Average Mark      : 96.20\n",
      "Final Grade       : A\n",
      "==================================================\n",
      "Excellent performance! Keep up the great work!\n"
     ]
    },
    {
     "name": "stdin",
     "output_type": "stream",
     "text": [
      "\n",
      "Do you want to calculate grades for another student? (yes/no):  yes\n",
      "\n",
      "Enter name of the student:  SOORYA SUBHASH\n"
     ]
    },
    {
     "name": "stdout",
     "output_type": "stream",
     "text": [
      "Enter marks for each subject (0-100)\n",
      "--------------------------------------------------\n"
     ]
    },
    {
     "name": "stdin",
     "output_type": "stream",
     "text": [
      "Enter marks for English:  92\n",
      "Enter marks for Mathematics:  85\n",
      "Enter marks for Physics:  82\n",
      "Enter marks for Chemistry:  80.5\n",
      "Enter marks for Computer Science:  95.5\n"
     ]
    },
    {
     "name": "stdout",
     "output_type": "stream",
     "text": [
      "\n",
      "STUDENT GRADE REPORT\n",
      "==================================================\n",
      "Student Name      : SOORYA SUBHASH\n",
      "--------------------------------------------------\n",
      "Subject-wise Marks\n",
      "--------------------------------------------------\n",
      "English           :  92.0\n",
      "Mathematics       :  85.0\n",
      "Physics           :  82.0\n",
      "Chemistry         :  80.5\n",
      "Computer Science  :  95.5\n",
      "--------------------------------------------------\n",
      "Average Mark      : 87.00\n",
      "Final Grade       : B\n",
      "==================================================\n",
      "Good performance! Keep striving for excellence!\n"
     ]
    },
    {
     "name": "stdin",
     "output_type": "stream",
     "text": [
      "\n",
      "Do you want to calculate grades for another student? (yes/no):  yes\n",
      "\n",
      "Enter name of the student:  ASWIN SREEKUMAR\n"
     ]
    },
    {
     "name": "stdout",
     "output_type": "stream",
     "text": [
      "Enter marks for each subject (0-100)\n",
      "--------------------------------------------------\n"
     ]
    },
    {
     "name": "stdin",
     "output_type": "stream",
     "text": [
      "Enter marks for English:  79\n",
      "Enter marks for Mathematics:  74.5\n",
      "Enter marks for Physics:  70\n",
      "Enter marks for Chemistry:  68\n",
      "Enter marks for Computer Science:  79\n"
     ]
    },
    {
     "name": "stdout",
     "output_type": "stream",
     "text": [
      "\n",
      "STUDENT GRADE REPORT\n",
      "==================================================\n",
      "Student Name      : ASWIN SREEKUMAR\n",
      "--------------------------------------------------\n",
      "Subject-wise Marks\n",
      "--------------------------------------------------\n",
      "English           :  79.0\n",
      "Mathematics       :  74.5\n",
      "Physics           :  70.0\n",
      "Chemistry         :  68.0\n",
      "Computer Science  :  79.0\n",
      "--------------------------------------------------\n",
      "Average Mark      : 74.10\n",
      "Final Grade       : B\n",
      "==================================================\n",
      "Good performance! Keep striving for excellence!\n"
     ]
    },
    {
     "name": "stdin",
     "output_type": "stream",
     "text": [
      "\n",
      "Do you want to calculate grades for another student? (yes/no):  yes\n",
      "\n",
      "Enter name of the student:  KARAN KRISHNA\n"
     ]
    },
    {
     "name": "stdout",
     "output_type": "stream",
     "text": [
      "Enter marks for each subject (0-100)\n",
      "--------------------------------------------------\n"
     ]
    },
    {
     "name": "stdin",
     "output_type": "stream",
     "text": [
      "Enter marks for English:  60\n",
      "Enter marks for Mathematics:  65\n",
      "Enter marks for Physics:  55.5\n",
      "Enter marks for Chemistry:  53\n",
      "Enter marks for Computer Science:  50\n"
     ]
    },
    {
     "name": "stdout",
     "output_type": "stream",
     "text": [
      "\n",
      "STUDENT GRADE REPORT\n",
      "==================================================\n",
      "Student Name      : KARAN KRISHNA\n",
      "--------------------------------------------------\n",
      "Subject-wise Marks\n",
      "--------------------------------------------------\n",
      "English           :  60.0\n",
      "Mathematics       :  65.0\n",
      "Physics           :  55.5\n",
      "Chemistry         :  53.0\n",
      "Computer Science  :  50.0\n",
      "--------------------------------------------------\n",
      "Average Mark      : 56.70\n",
      "Final Grade       : C\n",
      "==================================================\n",
      "Fair performance. There's room for improvement.\n"
     ]
    },
    {
     "name": "stdin",
     "output_type": "stream",
     "text": [
      "\n",
      "Do you want to calculate grades for another student? (yes/no):  yes\n",
      "\n",
      "Enter name of the student:  PRITHVI MANOJ\n"
     ]
    },
    {
     "name": "stdout",
     "output_type": "stream",
     "text": [
      "Enter marks for each subject (0-100)\n",
      "--------------------------------------------------\n"
     ]
    },
    {
     "name": "stdin",
     "output_type": "stream",
     "text": [
      "Enter marks for English:  25\n",
      "Enter marks for Mathematics:  14.5\n",
      "Enter marks for Physics:  30\n",
      "Enter marks for Chemistry:  17\n",
      "Enter marks for Computer Science:  35\n"
     ]
    },
    {
     "name": "stdout",
     "output_type": "stream",
     "text": [
      "\n",
      "STUDENT GRADE REPORT\n",
      "==================================================\n",
      "Student Name      : PRITHVI MANOJ\n",
      "--------------------------------------------------\n",
      "Subject-wise Marks\n",
      "--------------------------------------------------\n",
      "English           :  25.0\n",
      "Mathematics       :  14.5\n",
      "Physics           :  30.0\n",
      "Chemistry         :  17.0\n",
      "Computer Science  :  35.0\n",
      "--------------------------------------------------\n",
      "Average Mark      : 24.30\n",
      "Final Grade       : F\n",
      "==================================================\n",
      "Need significant improvement. Please seek additional help.\n"
     ]
    },
    {
     "name": "stdin",
     "output_type": "stream",
     "text": [
      "\n",
      "Do you want to calculate grades for another student? (yes/no):  no\n"
     ]
    },
    {
     "name": "stdout",
     "output_type": "stream",
     "text": [
      "\n",
      "Thank you for using GradView.\n"
     ]
    }
   ],
   "source": [
    "def calculate_grade(average):\n",
    "    \"\"\"Determine grade based on average marks\"\"\"\n",
    "    if average >= 90:\n",
    "        return 'A'\n",
    "    elif average >= 70:\n",
    "        return 'B'\n",
    "    elif average >= 50:\n",
    "        return 'C'\n",
    "    else:\n",
    "        return 'F'\n",
    "\n",
    "def grade_calculator():\n",
    "    # Define subjects\n",
    "    subjects = ['English', 'Mathematics', 'Physics', 'Chemistry', 'Computer Science']\n",
    "\n",
    "    # List to store marks\n",
    "    marks = []\n",
    "\n",
    "    # Input the name of the student\n",
    "    student_name = input(\"\\nEnter name of the student: \")\n",
    "\n",
    "    # Input marks for each subject\n",
    "    print(\"Enter marks for each subject (0-100)\")\n",
    "    print(\"-\" * 50)\n",
    "\n",
    "    for subject in subjects:\n",
    "        while True:\n",
    "            mark = float(input(f\"Enter marks for {subject}: \"))\n",
    "            if mark > 100 or mark < 0:\n",
    "                print(\"Enter a valid mark (0-100)\")\n",
    "            else:\n",
    "                marks.append(mark)\n",
    "                break\n",
    "\n",
    "    # Calculate average\n",
    "    average = sum(marks) / len(marks)\n",
    "\n",
    "    # Determine grade\n",
    "    grade = calculate_grade(average)\n",
    "\n",
    "    # Display results\n",
    "    print(\"\\nSTUDENT GRADE REPORT\")\n",
    "    print(\"=\" * 50)\n",
    "    print(f\"Student Name      : {student_name}\")\n",
    "    print(\"-\" * 50)\n",
    "    print(\"Subject-wise Marks\")\n",
    "    print(\"-\" * 50)\n",
    "\n",
    "    # Display individual subject marks\n",
    "    for subject, mark in zip(subjects, marks):\n",
    "        print(f\"{subject:<18}: {mark:>5.1f}\")\n",
    "\n",
    "    # Display average and grade\n",
    "    print(\"-\" * 50)\n",
    "    print(f\"Average Mark      : {average:>5.2f}\")\n",
    "    print(f\"Final Grade       : {grade}\")\n",
    "    print(\"=\" * 50)\n",
    "\n",
    "    # Additional feedback\n",
    "    if grade == 'A':\n",
    "        print(\"Excellent performance! Keep up the great work!\")\n",
    "    elif grade == 'B':\n",
    "        print(\"Good performance! Keep striving for excellence!\")\n",
    "    elif grade == 'C':\n",
    "        print(\"Fair performance. There's room for improvement.\")\n",
    "    else:\n",
    "        print(\"Need significant improvement. Please seek additional help.\")\n",
    "\n",
    "def main():\n",
    "    print(\"GradView: Grade Calculator\")\n",
    "    print(\"--------------------------\")\n",
    "    while True:\n",
    "        grade_calculator()\n",
    "        # Ask if the user wants to process another student\n",
    "        choice = input(\"\\nDo you want to calculate grades for another student? (yes/no): \").strip().lower()\n",
    "        if choice not in ['yes', 'y']:\n",
    "            print(\"\\nThank you for using GradView.\")\n",
    "            break\n",
    "\n",
    "# Call the main function\n",
    "main()"
   ]
  },
  {
   "cell_type": "markdown",
   "id": "05af84d1-2b64-4d39-991b-e1ceb4c493ab",
   "metadata": {},
   "source": [
    "## MOVIE TICKET BOOKING SYSTEM"
   ]
  },
  {
   "cell_type": "code",
   "execution_count": 5,
   "id": "03521708-786c-4dae-9132-b573aaa5feae",
   "metadata": {},
   "outputs": [
    {
     "name": "stdout",
     "output_type": "stream",
     "text": [
      "  CineAura: Movie Ticket Booking System\n",
      "----------------------------------------\n",
      "\n",
      "Available Seats:\n",
      "----------------------------------------\n",
      "            SCREEN\n",
      "----------------------------------------\n",
      "ROW 1: [01 02 03 04 05]\n",
      "ROW 2: [06 07 08 09 10]\n",
      "ROW 3: [11 12 13 14 15]\n",
      "ROW 4: [16 17 18 19 20]\n",
      "ROW 5: [21 22 23 24 25]\n",
      "----------------------------------------\n",
      "\n",
      "Enter 0 to exit booking system\n"
     ]
    },
    {
     "name": "stdin",
     "output_type": "stream",
     "text": [
      "Enter seat number to book:  17\n",
      "\n",
      "You selected seat 17. Confirm booking? (yes/no):  yes\n"
     ]
    },
    {
     "name": "stdout",
     "output_type": "stream",
     "text": [
      "\n",
      "Seat 17 booked successfully!\n",
      "\n",
      "Available Seats:\n",
      "----------------------------------------\n",
      "            SCREEN\n",
      "----------------------------------------\n",
      "ROW 1: [01 02 03 04 05]\n",
      "ROW 2: [06 07 08 09 10]\n",
      "ROW 3: [11 12 13 14 15]\n",
      "ROW 4: [16 XX 18 19 20]\n",
      "ROW 5: [21 22 23 24 25]\n",
      "----------------------------------------\n",
      "\n",
      "Enter 0 to exit booking system\n"
     ]
    },
    {
     "name": "stdin",
     "output_type": "stream",
     "text": [
      "Enter seat number to book:  10\n",
      "\n",
      "You selected seat 10. Confirm booking? (yes/no):  yes\n"
     ]
    },
    {
     "name": "stdout",
     "output_type": "stream",
     "text": [
      "\n",
      "Seat 10 booked successfully!\n",
      "\n",
      "Available Seats:\n",
      "----------------------------------------\n",
      "            SCREEN\n",
      "----------------------------------------\n",
      "ROW 1: [01 02 03 04 05]\n",
      "ROW 2: [06 07 08 09 XX]\n",
      "ROW 3: [11 12 13 14 15]\n",
      "ROW 4: [16 XX 18 19 20]\n",
      "ROW 5: [21 22 23 24 25]\n",
      "----------------------------------------\n",
      "\n",
      "Enter 0 to exit booking system\n"
     ]
    },
    {
     "name": "stdin",
     "output_type": "stream",
     "text": [
      "Enter seat number to book:  2\n",
      "\n",
      "You selected seat 2. Confirm booking? (yes/no):  yes\n"
     ]
    },
    {
     "name": "stdout",
     "output_type": "stream",
     "text": [
      "\n",
      "Seat 2 booked successfully!\n",
      "\n",
      "Available Seats:\n",
      "----------------------------------------\n",
      "            SCREEN\n",
      "----------------------------------------\n",
      "ROW 1: [01 XX 03 04 05]\n",
      "ROW 2: [06 07 08 09 XX]\n",
      "ROW 3: [11 12 13 14 15]\n",
      "ROW 4: [16 XX 18 19 20]\n",
      "ROW 5: [21 22 23 24 25]\n",
      "----------------------------------------\n",
      "\n",
      "Enter 0 to exit booking system\n"
     ]
    },
    {
     "name": "stdin",
     "output_type": "stream",
     "text": [
      "Enter seat number to book:  25\n",
      "\n",
      "You selected seat 25. Confirm booking? (yes/no):  no\n"
     ]
    },
    {
     "name": "stdout",
     "output_type": "stream",
     "text": [
      "\n",
      "Booking canceled. Please choose another seat.\n",
      "\n",
      "Available Seats:\n",
      "----------------------------------------\n",
      "            SCREEN\n",
      "----------------------------------------\n",
      "ROW 1: [01 XX 03 04 05]\n",
      "ROW 2: [06 07 08 09 XX]\n",
      "ROW 3: [11 12 13 14 15]\n",
      "ROW 4: [16 XX 18 19 20]\n",
      "ROW 5: [21 22 23 24 25]\n",
      "----------------------------------------\n",
      "\n",
      "Enter 0 to exit booking system\n"
     ]
    },
    {
     "name": "stdin",
     "output_type": "stream",
     "text": [
      "Enter seat number to book:  14\n",
      "\n",
      "You selected seat 14. Confirm booking? (yes/no):  yes\n"
     ]
    },
    {
     "name": "stdout",
     "output_type": "stream",
     "text": [
      "\n",
      "Seat 14 booked successfully!\n",
      "\n",
      "Available Seats:\n",
      "----------------------------------------\n",
      "            SCREEN\n",
      "----------------------------------------\n",
      "ROW 1: [01 XX 03 04 05]\n",
      "ROW 2: [06 07 08 09 XX]\n",
      "ROW 3: [11 12 13 XX 15]\n",
      "ROW 4: [16 XX 18 19 20]\n",
      "ROW 5: [21 22 23 24 25]\n",
      "----------------------------------------\n",
      "\n",
      "Enter 0 to exit booking system\n"
     ]
    },
    {
     "name": "stdin",
     "output_type": "stream",
     "text": [
      "Enter seat number to book:  25\n",
      "\n",
      "You selected seat 25. Confirm booking? (yes/no):  yes\n"
     ]
    },
    {
     "name": "stdout",
     "output_type": "stream",
     "text": [
      "\n",
      "Seat 25 booked successfully!\n",
      "\n",
      "Available Seats:\n",
      "----------------------------------------\n",
      "            SCREEN\n",
      "----------------------------------------\n",
      "ROW 1: [01 XX 03 04 05]\n",
      "ROW 2: [06 07 08 09 XX]\n",
      "ROW 3: [11 12 13 XX 15]\n",
      "ROW 4: [16 XX 18 19 20]\n",
      "ROW 5: [21 22 23 24 XX]\n",
      "----------------------------------------\n",
      "\n",
      "Enter 0 to exit booking system\n"
     ]
    },
    {
     "name": "stdin",
     "output_type": "stream",
     "text": [
      "Enter seat number to book:  25\n"
     ]
    },
    {
     "name": "stdout",
     "output_type": "stream",
     "text": [
      "\n",
      "Invalid seat number or seat already booked!\n",
      "Please choose from available seats.\n",
      "\n",
      "Available Seats:\n",
      "----------------------------------------\n",
      "            SCREEN\n",
      "----------------------------------------\n",
      "ROW 1: [01 XX 03 04 05]\n",
      "ROW 2: [06 07 08 09 XX]\n",
      "ROW 3: [11 12 13 XX 15]\n",
      "ROW 4: [16 XX 18 19 20]\n",
      "ROW 5: [21 22 23 24 XX]\n",
      "----------------------------------------\n",
      "\n",
      "Enter 0 to exit booking system\n"
     ]
    },
    {
     "name": "stdin",
     "output_type": "stream",
     "text": [
      "Enter seat number to book:  30\n"
     ]
    },
    {
     "name": "stdout",
     "output_type": "stream",
     "text": [
      "\n",
      "Invalid seat number or seat already booked!\n",
      "Please choose from available seats.\n",
      "\n",
      "Available Seats:\n",
      "----------------------------------------\n",
      "            SCREEN\n",
      "----------------------------------------\n",
      "ROW 1: [01 XX 03 04 05]\n",
      "ROW 2: [06 07 08 09 XX]\n",
      "ROW 3: [11 12 13 XX 15]\n",
      "ROW 4: [16 XX 18 19 20]\n",
      "ROW 5: [21 22 23 24 XX]\n",
      "----------------------------------------\n",
      "\n",
      "Enter 0 to exit booking system\n"
     ]
    },
    {
     "name": "stdin",
     "output_type": "stream",
     "text": [
      "Enter seat number to book:  5\n",
      "\n",
      "You selected seat 5. Confirm booking? (yes/no):  yes\n"
     ]
    },
    {
     "name": "stdout",
     "output_type": "stream",
     "text": [
      "\n",
      "Seat 5 booked successfully!\n",
      "\n",
      "Available Seats:\n",
      "----------------------------------------\n",
      "            SCREEN\n",
      "----------------------------------------\n",
      "ROW 1: [01 XX 03 04 XX]\n",
      "ROW 2: [06 07 08 09 XX]\n",
      "ROW 3: [11 12 13 XX 15]\n",
      "ROW 4: [16 XX 18 19 20]\n",
      "ROW 5: [21 22 23 24 XX]\n",
      "----------------------------------------\n",
      "\n",
      "Enter 0 to exit booking system\n"
     ]
    },
    {
     "name": "stdin",
     "output_type": "stream",
     "text": [
      "Enter seat number to book:  20\n",
      "\n",
      "You selected seat 20. Confirm booking? (yes/no):  yes\n"
     ]
    },
    {
     "name": "stdout",
     "output_type": "stream",
     "text": [
      "\n",
      "Seat 20 booked successfully!\n",
      "\n",
      "Available Seats:\n",
      "----------------------------------------\n",
      "            SCREEN\n",
      "----------------------------------------\n",
      "ROW 1: [01 XX 03 04 XX]\n",
      "ROW 2: [06 07 08 09 XX]\n",
      "ROW 3: [11 12 13 XX 15]\n",
      "ROW 4: [16 XX 18 19 XX]\n",
      "ROW 5: [21 22 23 24 XX]\n",
      "----------------------------------------\n",
      "\n",
      "Enter 0 to exit booking system\n"
     ]
    },
    {
     "name": "stdin",
     "output_type": "stream",
     "text": [
      "Enter seat number to book:  7\n",
      "\n",
      "You selected seat 7. Confirm booking? (yes/no):  yes\n"
     ]
    },
    {
     "name": "stdout",
     "output_type": "stream",
     "text": [
      "\n",
      "Seat 7 booked successfully!\n",
      "\n",
      "Available Seats:\n",
      "----------------------------------------\n",
      "            SCREEN\n",
      "----------------------------------------\n",
      "ROW 1: [01 XX 03 04 XX]\n",
      "ROW 2: [06 XX 08 09 XX]\n",
      "ROW 3: [11 12 13 XX 15]\n",
      "ROW 4: [16 XX 18 19 XX]\n",
      "ROW 5: [21 22 23 24 XX]\n",
      "----------------------------------------\n",
      "\n",
      "Enter 0 to exit booking system\n"
     ]
    },
    {
     "name": "stdin",
     "output_type": "stream",
     "text": [
      "Enter seat number to book:  12\n",
      "\n",
      "You selected seat 12. Confirm booking? (yes/no):  yes\n"
     ]
    },
    {
     "name": "stdout",
     "output_type": "stream",
     "text": [
      "\n",
      "Seat 12 booked successfully!\n",
      "\n",
      "Available Seats:\n",
      "----------------------------------------\n",
      "            SCREEN\n",
      "----------------------------------------\n",
      "ROW 1: [01 XX 03 04 XX]\n",
      "ROW 2: [06 XX 08 09 XX]\n",
      "ROW 3: [11 XX 13 XX 15]\n",
      "ROW 4: [16 XX 18 19 XX]\n",
      "ROW 5: [21 22 23 24 XX]\n",
      "----------------------------------------\n",
      "\n",
      "Enter 0 to exit booking system\n"
     ]
    },
    {
     "name": "stdin",
     "output_type": "stream",
     "text": [
      "Enter seat number to book:  21\n",
      "\n",
      "You selected seat 21. Confirm booking? (yes/no):  yes\n"
     ]
    },
    {
     "name": "stdout",
     "output_type": "stream",
     "text": [
      "\n",
      "Seat 21 booked successfully!\n",
      "\n",
      "Available Seats:\n",
      "----------------------------------------\n",
      "            SCREEN\n",
      "----------------------------------------\n",
      "ROW 1: [01 XX 03 04 XX]\n",
      "ROW 2: [06 XX 08 09 XX]\n",
      "ROW 3: [11 XX 13 XX 15]\n",
      "ROW 4: [16 XX 18 19 XX]\n",
      "ROW 5: [XX 22 23 24 XX]\n",
      "----------------------------------------\n",
      "\n",
      "Enter 0 to exit booking system\n"
     ]
    },
    {
     "name": "stdin",
     "output_type": "stream",
     "text": [
      "Enter seat number to book:  23\n",
      "\n",
      "You selected seat 23. Confirm booking? (yes/no):  yes\n"
     ]
    },
    {
     "name": "stdout",
     "output_type": "stream",
     "text": [
      "\n",
      "Seat 23 booked successfully!\n",
      "\n",
      "Available Seats:\n",
      "----------------------------------------\n",
      "            SCREEN\n",
      "----------------------------------------\n",
      "ROW 1: [01 XX 03 04 XX]\n",
      "ROW 2: [06 XX 08 09 XX]\n",
      "ROW 3: [11 XX 13 XX 15]\n",
      "ROW 4: [16 XX 18 19 XX]\n",
      "ROW 5: [XX 22 XX 24 XX]\n",
      "----------------------------------------\n",
      "\n",
      "Enter 0 to exit booking system\n"
     ]
    },
    {
     "name": "stdin",
     "output_type": "stream",
     "text": [
      "Enter seat number to book:  22\n",
      "\n",
      "You selected seat 22. Confirm booking? (yes/no):  yes\n"
     ]
    },
    {
     "name": "stdout",
     "output_type": "stream",
     "text": [
      "\n",
      "Seat 22 booked successfully!\n",
      "\n",
      "Available Seats:\n",
      "----------------------------------------\n",
      "            SCREEN\n",
      "----------------------------------------\n",
      "ROW 1: [01 XX 03 04 XX]\n",
      "ROW 2: [06 XX 08 09 XX]\n",
      "ROW 3: [11 XX 13 XX 15]\n",
      "ROW 4: [16 XX 18 19 XX]\n",
      "ROW 5: [XX XX XX 24 XX]\n",
      "----------------------------------------\n",
      "\n",
      "Enter 0 to exit booking system\n"
     ]
    },
    {
     "name": "stdin",
     "output_type": "stream",
     "text": [
      "Enter seat number to book:  24\n",
      "\n",
      "You selected seat 24. Confirm booking? (yes/no):  yes\n"
     ]
    },
    {
     "name": "stdout",
     "output_type": "stream",
     "text": [
      "\n",
      "Seat 24 booked successfully!\n",
      "\n",
      "Available Seats:\n",
      "----------------------------------------\n",
      "            SCREEN\n",
      "----------------------------------------\n",
      "ROW 1: [01 XX 03 04 XX]\n",
      "ROW 2: [06 XX 08 09 XX]\n",
      "ROW 3: [11 XX 13 XX 15]\n",
      "ROW 4: [16 XX 18 19 XX]\n",
      "ROW 5: [XX XX XX XX XX]\n",
      "----------------------------------------\n",
      "\n",
      "Enter 0 to exit booking system\n"
     ]
    },
    {
     "name": "stdin",
     "output_type": "stream",
     "text": [
      "Enter seat number to book:  15\n",
      "\n",
      "You selected seat 15. Confirm booking? (yes/no):  yes\n"
     ]
    },
    {
     "name": "stdout",
     "output_type": "stream",
     "text": [
      "\n",
      "Seat 15 booked successfully!\n",
      "\n",
      "Available Seats:\n",
      "----------------------------------------\n",
      "            SCREEN\n",
      "----------------------------------------\n",
      "ROW 1: [01 XX 03 04 XX]\n",
      "ROW 2: [06 XX 08 09 XX]\n",
      "ROW 3: [11 XX 13 XX XX]\n",
      "ROW 4: [16 XX 18 19 XX]\n",
      "ROW 5: [XX XX XX XX XX]\n",
      "----------------------------------------\n",
      "\n",
      "Enter 0 to exit booking system\n"
     ]
    },
    {
     "name": "stdin",
     "output_type": "stream",
     "text": [
      "Enter seat number to book:  4\n",
      "\n",
      "You selected seat 4. Confirm booking? (yes/no):  yes\n"
     ]
    },
    {
     "name": "stdout",
     "output_type": "stream",
     "text": [
      "\n",
      "Seat 4 booked successfully!\n",
      "\n",
      "Available Seats:\n",
      "----------------------------------------\n",
      "            SCREEN\n",
      "----------------------------------------\n",
      "ROW 1: [01 XX 03 XX XX]\n",
      "ROW 2: [06 XX 08 09 XX]\n",
      "ROW 3: [11 XX 13 XX XX]\n",
      "ROW 4: [16 XX 18 19 XX]\n",
      "ROW 5: [XX XX XX XX XX]\n",
      "----------------------------------------\n",
      "\n",
      "Enter 0 to exit booking system\n"
     ]
    },
    {
     "name": "stdin",
     "output_type": "stream",
     "text": [
      "Enter seat number to book:  19\n",
      "\n",
      "You selected seat 19. Confirm booking? (yes/no):  yes\n"
     ]
    },
    {
     "name": "stdout",
     "output_type": "stream",
     "text": [
      "\n",
      "Seat 19 booked successfully!\n",
      "\n",
      "Available Seats:\n",
      "----------------------------------------\n",
      "            SCREEN\n",
      "----------------------------------------\n",
      "ROW 1: [01 XX 03 XX XX]\n",
      "ROW 2: [06 XX 08 09 XX]\n",
      "ROW 3: [11 XX 13 XX XX]\n",
      "ROW 4: [16 XX 18 XX XX]\n",
      "ROW 5: [XX XX XX XX XX]\n",
      "----------------------------------------\n",
      "\n",
      "Enter 0 to exit booking system\n"
     ]
    },
    {
     "name": "stdin",
     "output_type": "stream",
     "text": [
      "Enter seat number to book:  3\n",
      "\n",
      "You selected seat 3. Confirm booking? (yes/no):  yes\n"
     ]
    },
    {
     "name": "stdout",
     "output_type": "stream",
     "text": [
      "\n",
      "Seat 3 booked successfully!\n",
      "\n",
      "Available Seats:\n",
      "----------------------------------------\n",
      "            SCREEN\n",
      "----------------------------------------\n",
      "ROW 1: [01 XX XX XX XX]\n",
      "ROW 2: [06 XX 08 09 XX]\n",
      "ROW 3: [11 XX 13 XX XX]\n",
      "ROW 4: [16 XX 18 XX XX]\n",
      "ROW 5: [XX XX XX XX XX]\n",
      "----------------------------------------\n",
      "\n",
      "Enter 0 to exit booking system\n"
     ]
    },
    {
     "name": "stdin",
     "output_type": "stream",
     "text": [
      "Enter seat number to book:  9\n",
      "\n",
      "You selected seat 9. Confirm booking? (yes/no):  yes\n"
     ]
    },
    {
     "name": "stdout",
     "output_type": "stream",
     "text": [
      "\n",
      "Seat 9 booked successfully!\n",
      "\n",
      "Available Seats:\n",
      "----------------------------------------\n",
      "            SCREEN\n",
      "----------------------------------------\n",
      "ROW 1: [01 XX XX XX XX]\n",
      "ROW 2: [06 XX 08 XX XX]\n",
      "ROW 3: [11 XX 13 XX XX]\n",
      "ROW 4: [16 XX 18 XX XX]\n",
      "ROW 5: [XX XX XX XX XX]\n",
      "----------------------------------------\n",
      "\n",
      "Enter 0 to exit booking system\n"
     ]
    },
    {
     "name": "stdin",
     "output_type": "stream",
     "text": [
      "Enter seat number to book:  18\n",
      "\n",
      "You selected seat 18. Confirm booking? (yes/no):  yes\n"
     ]
    },
    {
     "name": "stdout",
     "output_type": "stream",
     "text": [
      "\n",
      "Seat 18 booked successfully!\n",
      "\n",
      "Available Seats:\n",
      "----------------------------------------\n",
      "            SCREEN\n",
      "----------------------------------------\n",
      "ROW 1: [01 XX XX XX XX]\n",
      "ROW 2: [06 XX 08 XX XX]\n",
      "ROW 3: [11 XX 13 XX XX]\n",
      "ROW 4: [16 XX XX XX XX]\n",
      "ROW 5: [XX XX XX XX XX]\n",
      "----------------------------------------\n",
      "\n",
      "Enter 0 to exit booking system\n"
     ]
    },
    {
     "name": "stdin",
     "output_type": "stream",
     "text": [
      "Enter seat number to book:  16\n",
      "\n",
      "You selected seat 16. Confirm booking? (yes/no):  yes\n"
     ]
    },
    {
     "name": "stdout",
     "output_type": "stream",
     "text": [
      "\n",
      "Seat 16 booked successfully!\n",
      "\n",
      "Available Seats:\n",
      "----------------------------------------\n",
      "            SCREEN\n",
      "----------------------------------------\n",
      "ROW 1: [01 XX XX XX XX]\n",
      "ROW 2: [06 XX 08 XX XX]\n",
      "ROW 3: [11 XX 13 XX XX]\n",
      "ROW 4: [XX XX XX XX XX]\n",
      "ROW 5: [XX XX XX XX XX]\n",
      "----------------------------------------\n",
      "\n",
      "Enter 0 to exit booking system\n"
     ]
    },
    {
     "name": "stdin",
     "output_type": "stream",
     "text": [
      "Enter seat number to book:  11\n",
      "\n",
      "You selected seat 11. Confirm booking? (yes/no):  yes\n"
     ]
    },
    {
     "name": "stdout",
     "output_type": "stream",
     "text": [
      "\n",
      "Seat 11 booked successfully!\n",
      "\n",
      "Available Seats:\n",
      "----------------------------------------\n",
      "            SCREEN\n",
      "----------------------------------------\n",
      "ROW 1: [01 XX XX XX XX]\n",
      "ROW 2: [06 XX 08 XX XX]\n",
      "ROW 3: [XX XX 13 XX XX]\n",
      "ROW 4: [XX XX XX XX XX]\n",
      "ROW 5: [XX XX XX XX XX]\n",
      "----------------------------------------\n",
      "\n",
      "Enter 0 to exit booking system\n"
     ]
    },
    {
     "name": "stdin",
     "output_type": "stream",
     "text": [
      "Enter seat number to book:  8\n",
      "\n",
      "You selected seat 8. Confirm booking? (yes/no):  yes\n"
     ]
    },
    {
     "name": "stdout",
     "output_type": "stream",
     "text": [
      "\n",
      "Seat 8 booked successfully!\n",
      "\n",
      "Available Seats:\n",
      "----------------------------------------\n",
      "            SCREEN\n",
      "----------------------------------------\n",
      "ROW 1: [01 XX XX XX XX]\n",
      "ROW 2: [06 XX XX XX XX]\n",
      "ROW 3: [XX XX 13 XX XX]\n",
      "ROW 4: [XX XX XX XX XX]\n",
      "ROW 5: [XX XX XX XX XX]\n",
      "----------------------------------------\n",
      "\n",
      "Enter 0 to exit booking system\n"
     ]
    },
    {
     "name": "stdin",
     "output_type": "stream",
     "text": [
      "Enter seat number to book:  6\n",
      "\n",
      "You selected seat 6. Confirm booking? (yes/no):  yes\n"
     ]
    },
    {
     "name": "stdout",
     "output_type": "stream",
     "text": [
      "\n",
      "Seat 6 booked successfully!\n",
      "\n",
      "Available Seats:\n",
      "----------------------------------------\n",
      "            SCREEN\n",
      "----------------------------------------\n",
      "ROW 1: [01 XX XX XX XX]\n",
      "ROW 2: [XX XX XX XX XX]\n",
      "ROW 3: [XX XX 13 XX XX]\n",
      "ROW 4: [XX XX XX XX XX]\n",
      "ROW 5: [XX XX XX XX XX]\n",
      "----------------------------------------\n",
      "\n",
      "Enter 0 to exit booking system\n"
     ]
    },
    {
     "name": "stdin",
     "output_type": "stream",
     "text": [
      "Enter seat number to book:  1\n",
      "\n",
      "You selected seat 1. Confirm booking? (yes/no):  yes\n"
     ]
    },
    {
     "name": "stdout",
     "output_type": "stream",
     "text": [
      "\n",
      "Seat 1 booked successfully!\n",
      "\n",
      "Available Seats:\n",
      "----------------------------------------\n",
      "            SCREEN\n",
      "----------------------------------------\n",
      "ROW 1: [XX XX XX XX XX]\n",
      "ROW 2: [XX XX XX XX XX]\n",
      "ROW 3: [XX XX 13 XX XX]\n",
      "ROW 4: [XX XX XX XX XX]\n",
      "ROW 5: [XX XX XX XX XX]\n",
      "----------------------------------------\n",
      "\n",
      "Enter 0 to exit booking system\n"
     ]
    },
    {
     "name": "stdin",
     "output_type": "stream",
     "text": [
      "Enter seat number to book:  0\n"
     ]
    },
    {
     "name": "stdout",
     "output_type": "stream",
     "text": [
      "\n",
      "Thank you for using our booking system!\n"
     ]
    }
   ],
   "source": [
    "def display_seats(available_seats):\n",
    "    print(\"\\nAvailable Seats:\")\n",
    "    print(\"-\" * 40)\n",
    "    print(\"            SCREEN\")\n",
    "    print(\"-\" * 40)\n",
    "\n",
    "    # Display seats in rows of 5\n",
    "    for row in range(5):  # 5 rows (25 seats total)\n",
    "        row_seats = []\n",
    "        for seat in range(row * 5 + 1, (row + 1) * 5 + 1):\n",
    "            if seat in available_seats:\n",
    "                row_seats.append(f\"{seat:02d}\")  # Padding with zero for alignment\n",
    "            else:\n",
    "                row_seats.append(\"XX\")  # XX represents booked seat\n",
    "\n",
    "        # Print row with proper spacing\n",
    "        print(f\"ROW {row + 1}: [{' '.join(row_seats)}]\")\n",
    "    print(\"-\" * 40)\n",
    "\n",
    "def main():\n",
    "    # Initialize available seats (1 to 25)\n",
    "    available_seats = list(range(1, 26))\n",
    "\n",
    "    while True:\n",
    "        # Display current status\n",
    "        display_seats(available_seats)\n",
    "\n",
    "        # Get customer choice\n",
    "        print(\"\\nEnter 0 to exit booking system\")\n",
    "        seat_choice = input(\"Enter seat number to book: \")\n",
    "        if not seat_choice.isdigit():\n",
    "            print(\"\\nInvalid input! Please enter a valid seat number.\")\n",
    "            # Skip the rest of the loop\n",
    "            continue\n",
    "        # Convert the input to an integer after validation\n",
    "        seat_choice = int(seat_choice)\n",
    "\n",
    "        # Exit condition\n",
    "        if seat_choice == 0:\n",
    "            print(\"\\nThank you for using our booking system!\")\n",
    "            break\n",
    "\n",
    "        # Validate seat choice\n",
    "        if seat_choice in available_seats:\n",
    "            # Ask for confirmation\n",
    "            confirmation = input(f\"\\nYou selected seat {seat_choice}. Confirm booking? (yes/no): \").strip().lower()\n",
    "            if confirmation in ['yes', 'y']:\n",
    "                # Process booking and remove the seat from available choices\n",
    "                available_seats.remove(seat_choice)\n",
    "                print(f\"\\nSeat {seat_choice} booked successfully!\")\n",
    "\n",
    "                # Check if all seats are booked\n",
    "                if not available_seats:\n",
    "                    print(\"\\nAll seats are booked!\")\n",
    "                    break\n",
    "            else:\n",
    "                print(\"\\nBooking canceled. Please choose another seat.\")\n",
    "        else:\n",
    "            print(\"\\nInvalid seat number or seat already booked!\")\n",
    "            print(\"Please choose from available seats.\")\n",
    "\n",
    "print(\"  CineAura: Movie Ticket Booking System\")\n",
    "print(\"-\" * 40)\n",
    "main()"
   ]
  },
  {
   "cell_type": "code",
   "execution_count": null,
   "id": "344b02b5-ee8f-4a96-a1f6-5e5ab5fd1336",
   "metadata": {},
   "outputs": [],
   "source": []
  }
 ],
 "metadata": {
  "kernelspec": {
   "display_name": "Python 3 (ipykernel)",
   "language": "python",
   "name": "python3"
  },
  "language_info": {
   "codemirror_mode": {
    "name": "ipython",
    "version": 3
   },
   "file_extension": ".py",
   "mimetype": "text/x-python",
   "name": "python",
   "nbconvert_exporter": "python",
   "pygments_lexer": "ipython3",
   "version": "3.12.7"
  }
 },
 "nbformat": 4,
 "nbformat_minor": 5
}
